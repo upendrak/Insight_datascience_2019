{
 "cells": [
  {
   "cell_type": "markdown",
   "metadata": {},
   "source": [
    "## Customer loyality\n",
    "\n",
    "You work at a small food service supply wholesaler that principally services the hotel/restaurant and retail channels. Currently, your company is working on designing a customer loyalty program but your CEO is unsure of the best way to proceed - the current thinking is a loyalty program that incentivizes customers to purchase across multiple offering categories (e.g., if a customer purchases from the grocery, frozen, and deli categories, they receive a discount).\n",
    "Your CEO would like you to examine annual spending by the company’s current customers to understand if such a program would be attractive to the largest subgroup of customers.\n",
    "\n",
    "## Recommendations:\n",
    "\n",
    "- Groups I and II seems to be the target customers overall\n",
    "- GroupIII customers - Some items can be recommended for the loayality program"
   ]
  },
  {
   "cell_type": "code",
   "execution_count": 454,
   "metadata": {},
   "outputs": [],
   "source": [
    "import seaborn as sns\n",
    "import matplotlib.pyplot as plt"
   ]
  },
  {
   "cell_type": "code",
   "execution_count": 370,
   "metadata": {},
   "outputs": [
    {
     "data": {
      "text/html": [
       "<div>\n",
       "<style scoped>\n",
       "    .dataframe tbody tr th:only-of-type {\n",
       "        vertical-align: middle;\n",
       "    }\n",
       "\n",
       "    .dataframe tbody tr th {\n",
       "        vertical-align: top;\n",
       "    }\n",
       "\n",
       "    .dataframe thead th {\n",
       "        text-align: right;\n",
       "    }\n",
       "</style>\n",
       "<table border=\"1\" class=\"dataframe\">\n",
       "  <thead>\n",
       "    <tr style=\"text-align: right;\">\n",
       "      <th></th>\n",
       "      <th>Channel</th>\n",
       "      <th>Customer</th>\n",
       "      <th>Year</th>\n",
       "      <th>Fresh</th>\n",
       "      <th>Milk</th>\n",
       "      <th>Grocery</th>\n",
       "      <th>Frozen</th>\n",
       "      <th>Detergents_Paper</th>\n",
       "      <th>Delicassen</th>\n",
       "    </tr>\n",
       "  </thead>\n",
       "  <tbody>\n",
       "    <tr>\n",
       "      <th>0</th>\n",
       "      <td>2</td>\n",
       "      <td>6048141</td>\n",
       "      <td>2017</td>\n",
       "      <td>12669</td>\n",
       "      <td>9656</td>\n",
       "      <td>7561</td>\n",
       "      <td>214</td>\n",
       "      <td>2674</td>\n",
       "      <td>1338</td>\n",
       "    </tr>\n",
       "    <tr>\n",
       "      <th>1</th>\n",
       "      <td>2</td>\n",
       "      <td>9336325</td>\n",
       "      <td>2017</td>\n",
       "      <td>7057</td>\n",
       "      <td>9810</td>\n",
       "      <td>9568</td>\n",
       "      <td>1762</td>\n",
       "      <td>3293</td>\n",
       "      <td>1776</td>\n",
       "    </tr>\n",
       "    <tr>\n",
       "      <th>2</th>\n",
       "      <td>2</td>\n",
       "      <td>6272942</td>\n",
       "      <td>2017</td>\n",
       "      <td>6353</td>\n",
       "      <td>8808</td>\n",
       "      <td>7684</td>\n",
       "      <td>2405</td>\n",
       "      <td>3516</td>\n",
       "      <td>7844</td>\n",
       "    </tr>\n",
       "    <tr>\n",
       "      <th>3</th>\n",
       "      <td>1</td>\n",
       "      <td>7856217</td>\n",
       "      <td>2017</td>\n",
       "      <td>13265</td>\n",
       "      <td>1196</td>\n",
       "      <td>4221</td>\n",
       "      <td>6404</td>\n",
       "      <td>507</td>\n",
       "      <td>1788</td>\n",
       "    </tr>\n",
       "    <tr>\n",
       "      <th>4</th>\n",
       "      <td>2</td>\n",
       "      <td>6179511</td>\n",
       "      <td>2017</td>\n",
       "      <td>22615</td>\n",
       "      <td>5410</td>\n",
       "      <td>7198</td>\n",
       "      <td>3915</td>\n",
       "      <td>1777</td>\n",
       "      <td>5185</td>\n",
       "    </tr>\n",
       "  </tbody>\n",
       "</table>\n",
       "</div>"
      ],
      "text/plain": [
       "   Channel  Customer  Year  Fresh  Milk Grocery Frozen Detergents_Paper  \\\n",
       "0        2   6048141  2017  12669  9656    7561    214             2674   \n",
       "1        2   9336325  2017   7057  9810    9568   1762             3293   \n",
       "2        2   6272942  2017   6353  8808    7684   2405             3516   \n",
       "3        1   7856217  2017  13265  1196    4221   6404              507   \n",
       "4        2   6179511  2017  22615  5410    7198   3915             1777   \n",
       "\n",
       "  Delicassen  \n",
       "0       1338  \n",
       "1       1776  \n",
       "2       7844  \n",
       "3       1788  \n",
       "4       5185  "
      ]
     },
     "execution_count": 370,
     "metadata": {},
     "output_type": "execute_result"
    },
    {
     "data": {
      "text/html": [
       "<div>\n",
       "<style scoped>\n",
       "    .dataframe tbody tr th:only-of-type {\n",
       "        vertical-align: middle;\n",
       "    }\n",
       "\n",
       "    .dataframe tbody tr th {\n",
       "        vertical-align: top;\n",
       "    }\n",
       "\n",
       "    .dataframe thead th {\n",
       "        text-align: right;\n",
       "    }\n",
       "</style>\n",
       "<table border=\"1\" class=\"dataframe\">\n",
       "  <thead>\n",
       "    <tr style=\"text-align: right;\">\n",
       "      <th></th>\n",
       "      <th>Channel</th>\n",
       "      <th>Customer</th>\n",
       "      <th>Year</th>\n",
       "      <th>Fresh</th>\n",
       "      <th>Milk</th>\n",
       "      <th>Grocery</th>\n",
       "      <th>Frozen</th>\n",
       "      <th>Detergents_Paper</th>\n",
       "      <th>Delicassen</th>\n",
       "    </tr>\n",
       "  </thead>\n",
       "  <tbody>\n",
       "    <tr>\n",
       "      <th>796</th>\n",
       "      <td>1</td>\n",
       "      <td>7034915</td>\n",
       "      <td>2016</td>\n",
       "      <td>1543</td>\n",
       "      <td>1476</td>\n",
       "      <td>1115</td>\n",
       "      <td>563</td>\n",
       "      <td>639</td>\n",
       "      <td>545</td>\n",
       "    </tr>\n",
       "    <tr>\n",
       "      <th>797</th>\n",
       "      <td>1</td>\n",
       "      <td>4485889</td>\n",
       "      <td>2016</td>\n",
       "      <td>2392</td>\n",
       "      <td>5710</td>\n",
       "      <td>10466</td>\n",
       "      <td>802</td>\n",
       "      <td>5132</td>\n",
       "      <td>369</td>\n",
       "    </tr>\n",
       "    <tr>\n",
       "      <th>798</th>\n",
       "      <td>2</td>\n",
       "      <td>3326242</td>\n",
       "      <td>2016</td>\n",
       "      <td>2782</td>\n",
       "      <td>681</td>\n",
       "      <td>1618</td>\n",
       "      <td>988</td>\n",
       "      <td>104</td>\n",
       "      <td>448</td>\n",
       "    </tr>\n",
       "    <tr>\n",
       "      <th>799</th>\n",
       "      <td>2</td>\n",
       "      <td>8680930</td>\n",
       "      <td>2016</td>\n",
       "      <td>992</td>\n",
       "      <td>6026</td>\n",
       "      <td>8026</td>\n",
       "      <td>940</td>\n",
       "      <td>8973</td>\n",
       "      <td>1506</td>\n",
       "    </tr>\n",
       "    <tr>\n",
       "      <th>800</th>\n",
       "      <td>1</td>\n",
       "      <td>4886018</td>\n",
       "      <td>2016</td>\n",
       "      <td>407</td>\n",
       "      <td>520</td>\n",
       "      <td>935</td>\n",
       "      <td>606</td>\n",
       "      <td>76</td>\n",
       "      <td>142</td>\n",
       "    </tr>\n",
       "  </tbody>\n",
       "</table>\n",
       "</div>"
      ],
      "text/plain": [
       "     Channel  Customer  Year Fresh  Milk Grocery Frozen Detergents_Paper  \\\n",
       "796        1   7034915  2016  1543  1476    1115    563              639   \n",
       "797        1   4485889  2016  2392  5710   10466    802             5132   \n",
       "798        2   3326242  2016  2782   681    1618    988              104   \n",
       "799        2   8680930  2016   992  6026    8026    940             8973   \n",
       "800        1   4886018  2016   407   520     935    606               76   \n",
       "\n",
       "    Delicassen  \n",
       "796        545  \n",
       "797        369  \n",
       "798        448  \n",
       "799       1506  \n",
       "800        142  "
      ]
     },
     "execution_count": 370,
     "metadata": {},
     "output_type": "execute_result"
    }
   ],
   "source": [
    "import pandas as pd\n",
    "wholesale_df_pandas = pd.read_csv(\"wholesale_data.csv\")\n",
    "wholesale_df_pandas[\"Year\"] = pd.to_datetime(wholesale_df_pandas[\"Year\"]).dt.strftime('%Y')\n",
    "wholesale_df_pandas.head()\n",
    "wholesale_df_pandas.tail()"
   ]
  },
  {
   "cell_type": "code",
   "execution_count": 371,
   "metadata": {},
   "outputs": [
    {
     "name": "stdout",
     "output_type": "stream",
     "text": [
      "<class 'pandas.core.frame.DataFrame'>\n",
      "RangeIndex: 801 entries, 0 to 800\n",
      "Data columns (total 9 columns):\n",
      "Channel             801 non-null int64\n",
      "Customer            801 non-null int64\n",
      "Year                801 non-null object\n",
      "Fresh               799 non-null object\n",
      "Milk                798 non-null object\n",
      "Grocery             798 non-null object\n",
      "Frozen              798 non-null object\n",
      "Detergents_Paper    799 non-null object\n",
      "Delicassen          797 non-null object\n",
      "dtypes: int64(2), object(7)\n",
      "memory usage: 56.4+ KB\n"
     ]
    },
    {
     "data": {
      "text/html": [
       "<div>\n",
       "<style scoped>\n",
       "    .dataframe tbody tr th:only-of-type {\n",
       "        vertical-align: middle;\n",
       "    }\n",
       "\n",
       "    .dataframe tbody tr th {\n",
       "        vertical-align: top;\n",
       "    }\n",
       "\n",
       "    .dataframe thead th {\n",
       "        text-align: right;\n",
       "    }\n",
       "</style>\n",
       "<table border=\"1\" class=\"dataframe\">\n",
       "  <thead>\n",
       "    <tr style=\"text-align: right;\">\n",
       "      <th></th>\n",
       "      <th>Channel</th>\n",
       "      <th>Customer</th>\n",
       "    </tr>\n",
       "  </thead>\n",
       "  <tbody>\n",
       "    <tr>\n",
       "      <th>count</th>\n",
       "      <td>801.000000</td>\n",
       "      <td>8.010000e+02</td>\n",
       "    </tr>\n",
       "    <tr>\n",
       "      <th>mean</th>\n",
       "      <td>1.344569</td>\n",
       "      <td>5.327841e+06</td>\n",
       "    </tr>\n",
       "    <tr>\n",
       "      <th>std</th>\n",
       "      <td>0.475525</td>\n",
       "      <td>2.544952e+06</td>\n",
       "    </tr>\n",
       "    <tr>\n",
       "      <th>min</th>\n",
       "      <td>1.000000</td>\n",
       "      <td>1.133724e+06</td>\n",
       "    </tr>\n",
       "    <tr>\n",
       "      <th>25%</th>\n",
       "      <td>1.000000</td>\n",
       "      <td>3.278814e+06</td>\n",
       "    </tr>\n",
       "    <tr>\n",
       "      <th>50%</th>\n",
       "      <td>1.000000</td>\n",
       "      <td>5.259389e+06</td>\n",
       "    </tr>\n",
       "    <tr>\n",
       "      <th>75%</th>\n",
       "      <td>2.000000</td>\n",
       "      <td>7.309127e+06</td>\n",
       "    </tr>\n",
       "    <tr>\n",
       "      <th>max</th>\n",
       "      <td>2.000000</td>\n",
       "      <td>9.990301e+06</td>\n",
       "    </tr>\n",
       "  </tbody>\n",
       "</table>\n",
       "</div>"
      ],
      "text/plain": [
       "          Channel      Customer\n",
       "count  801.000000  8.010000e+02\n",
       "mean     1.344569  5.327841e+06\n",
       "std      0.475525  2.544952e+06\n",
       "min      1.000000  1.133724e+06\n",
       "25%      1.000000  3.278814e+06\n",
       "50%      1.000000  5.259389e+06\n",
       "75%      2.000000  7.309127e+06\n",
       "max      2.000000  9.990301e+06"
      ]
     },
     "execution_count": 371,
     "metadata": {},
     "output_type": "execute_result"
    },
    {
     "data": {
      "text/plain": [
       "Channel              int64\n",
       "Customer             int64\n",
       "Year                object\n",
       "Fresh               object\n",
       "Milk                object\n",
       "Grocery             object\n",
       "Frozen              object\n",
       "Detergents_Paper    object\n",
       "Delicassen          object\n",
       "dtype: object"
      ]
     },
     "execution_count": 371,
     "metadata": {},
     "output_type": "execute_result"
    }
   ],
   "source": [
    "wholesale_df_pandas.info()\n",
    "wholesale_df_pandas.describe()\n",
    "wholesale_df_pandas.dtypes"
   ]
  },
  {
   "cell_type": "code",
   "execution_count": 372,
   "metadata": {},
   "outputs": [
    {
     "data": {
      "text/plain": [
       "Channel             0\n",
       "Customer            0\n",
       "Year                0\n",
       "Fresh               2\n",
       "Milk                3\n",
       "Grocery             3\n",
       "Frozen              3\n",
       "Detergents_Paper    2\n",
       "Delicassen          4\n",
       "dtype: int64"
      ]
     },
     "execution_count": 372,
     "metadata": {},
     "output_type": "execute_result"
    }
   ],
   "source": [
    "wholesale_df_pandas.isna().sum()"
   ]
  },
  {
   "cell_type": "code",
   "execution_count": 373,
   "metadata": {},
   "outputs": [
    {
     "data": {
      "text/plain": [
       "Channel             0\n",
       "Customer            0\n",
       "Year                0\n",
       "Fresh               0\n",
       "Milk                0\n",
       "Grocery             0\n",
       "Frozen              0\n",
       "Detergents_Paper    0\n",
       "Delicassen          0\n",
       "dtype: int64"
      ]
     },
     "execution_count": 373,
     "metadata": {},
     "output_type": "execute_result"
    }
   ],
   "source": [
    "wholesale_df_pandas = wholesale_df_pandas.fillna(0)\n",
    "wholesale_df_pandas.isna().sum()"
   ]
  },
  {
   "cell_type": "code",
   "execution_count": 374,
   "metadata": {},
   "outputs": [
    {
     "data": {
      "text/html": [
       "<div>\n",
       "<style scoped>\n",
       "    .dataframe tbody tr th:only-of-type {\n",
       "        vertical-align: middle;\n",
       "    }\n",
       "\n",
       "    .dataframe tbody tr th {\n",
       "        vertical-align: top;\n",
       "    }\n",
       "\n",
       "    .dataframe thead th {\n",
       "        text-align: right;\n",
       "    }\n",
       "</style>\n",
       "<table border=\"1\" class=\"dataframe\">\n",
       "  <thead>\n",
       "    <tr style=\"text-align: right;\">\n",
       "      <th></th>\n",
       "      <th>Channel</th>\n",
       "      <th>Customer</th>\n",
       "      <th>Year</th>\n",
       "      <th>Fresh</th>\n",
       "      <th>Milk</th>\n",
       "      <th>Grocery</th>\n",
       "      <th>Frozen</th>\n",
       "      <th>Detergents_Paper</th>\n",
       "      <th>Delicassen</th>\n",
       "    </tr>\n",
       "  </thead>\n",
       "  <tbody>\n",
       "    <tr>\n",
       "      <th>12</th>\n",
       "      <td>2</td>\n",
       "      <td>9012181</td>\n",
       "      <td>2017</td>\n",
       "      <td>unrecorded</td>\n",
       "      <td>12319</td>\n",
       "      <td>11757</td>\n",
       "      <td>287</td>\n",
       "      <td>3881</td>\n",
       "      <td>2931</td>\n",
       "    </tr>\n",
       "    <tr>\n",
       "      <th>414</th>\n",
       "      <td>1</td>\n",
       "      <td>2272718</td>\n",
       "      <td>2017</td>\n",
       "      <td>unrecorded</td>\n",
       "      <td>1990</td>\n",
       "      <td>3417</td>\n",
       "      <td>5679</td>\n",
       "      <td>1135</td>\n",
       "      <td>290</td>\n",
       "    </tr>\n",
       "  </tbody>\n",
       "</table>\n",
       "</div>"
      ],
      "text/plain": [
       "     Channel  Customer  Year       Fresh   Milk Grocery Frozen  \\\n",
       "12         2   9012181  2017  unrecorded  12319   11757    287   \n",
       "414        1   2272718  2017  unrecorded   1990    3417   5679   \n",
       "\n",
       "    Detergents_Paper Delicassen  \n",
       "12              3881       2931  \n",
       "414             1135        290  "
      ]
     },
     "execution_count": 374,
     "metadata": {},
     "output_type": "execute_result"
    }
   ],
   "source": [
    "wholesale_df_pandas[wholesale_df_pandas.Fresh == \"unrecorded\"]"
   ]
  },
  {
   "cell_type": "code",
   "execution_count": 375,
   "metadata": {},
   "outputs": [
    {
     "data": {
      "text/html": [
       "<div>\n",
       "<style scoped>\n",
       "    .dataframe tbody tr th:only-of-type {\n",
       "        vertical-align: middle;\n",
       "    }\n",
       "\n",
       "    .dataframe tbody tr th {\n",
       "        vertical-align: top;\n",
       "    }\n",
       "\n",
       "    .dataframe thead th {\n",
       "        text-align: right;\n",
       "    }\n",
       "</style>\n",
       "<table border=\"1\" class=\"dataframe\">\n",
       "  <thead>\n",
       "    <tr style=\"text-align: right;\">\n",
       "      <th></th>\n",
       "      <th>Channel</th>\n",
       "      <th>Customer</th>\n",
       "      <th>Year</th>\n",
       "      <th>Fresh</th>\n",
       "      <th>Milk</th>\n",
       "      <th>Grocery</th>\n",
       "      <th>Frozen</th>\n",
       "      <th>Detergents_Paper</th>\n",
       "      <th>Delicassen</th>\n",
       "    </tr>\n",
       "  </thead>\n",
       "  <tbody>\n",
       "  </tbody>\n",
       "</table>\n",
       "</div>"
      ],
      "text/plain": [
       "Empty DataFrame\n",
       "Columns: [Channel, Customer, Year, Fresh, Milk, Grocery, Frozen, Detergents_Paper, Delicassen]\n",
       "Index: []"
      ]
     },
     "execution_count": 375,
     "metadata": {},
     "output_type": "execute_result"
    }
   ],
   "source": [
    "wholesale_df_pandas = wholesale_df_pandas.replace(\"unrecorded\", 0)\n",
    "wholesale_df_pandas[wholesale_df_pandas.Fresh == \"unrecorded\"]"
   ]
  },
  {
   "cell_type": "code",
   "execution_count": 376,
   "metadata": {},
   "outputs": [],
   "source": [
    "wholesale_df_pandas.Year = wholesale_df_pandas.Year.astype(\"int64\")\n",
    "wholesale_df_pandas.Fresh = wholesale_df_pandas.Fresh.astype(\"int64\")\n",
    "wholesale_df_pandas.Milk = wholesale_df_pandas.Milk.astype(\"int64\")\n",
    "wholesale_df_pandas.Grocery = wholesale_df_pandas.Grocery.astype(\"int64\")\n",
    "wholesale_df_pandas.Frozen = wholesale_df_pandas.Frozen.astype(\"int64\")\n",
    "wholesale_df_pandas.Detergents_Paper = wholesale_df_pandas.Detergents_Paper.astype(\"int64\")\n",
    "wholesale_df_pandas.Delicassen = wholesale_df_pandas.Delicassen.astype(\"int64\")"
   ]
  },
  {
   "cell_type": "code",
   "execution_count": 377,
   "metadata": {},
   "outputs": [
    {
     "data": {
      "text/html": [
       "<div>\n",
       "<style scoped>\n",
       "    .dataframe tbody tr th:only-of-type {\n",
       "        vertical-align: middle;\n",
       "    }\n",
       "\n",
       "    .dataframe tbody tr th {\n",
       "        vertical-align: top;\n",
       "    }\n",
       "\n",
       "    .dataframe thead th {\n",
       "        text-align: right;\n",
       "    }\n",
       "</style>\n",
       "<table border=\"1\" class=\"dataframe\">\n",
       "  <thead>\n",
       "    <tr style=\"text-align: right;\">\n",
       "      <th></th>\n",
       "      <th>count</th>\n",
       "      <th>mean</th>\n",
       "      <th>std</th>\n",
       "      <th>min</th>\n",
       "      <th>25%</th>\n",
       "      <th>50%</th>\n",
       "      <th>75%</th>\n",
       "      <th>max</th>\n",
       "    </tr>\n",
       "  </thead>\n",
       "  <tbody>\n",
       "    <tr>\n",
       "      <th>Channel</th>\n",
       "      <td>801.0</td>\n",
       "      <td>1.344569e+00</td>\n",
       "      <td>4.755245e-01</td>\n",
       "      <td>1.0</td>\n",
       "      <td>1.0</td>\n",
       "      <td>1.0</td>\n",
       "      <td>2.0</td>\n",
       "      <td>2.0</td>\n",
       "    </tr>\n",
       "    <tr>\n",
       "      <th>Customer</th>\n",
       "      <td>801.0</td>\n",
       "      <td>5.327841e+06</td>\n",
       "      <td>2.544952e+06</td>\n",
       "      <td>1133724.0</td>\n",
       "      <td>3278814.0</td>\n",
       "      <td>5259389.0</td>\n",
       "      <td>7309127.0</td>\n",
       "      <td>9990301.0</td>\n",
       "    </tr>\n",
       "    <tr>\n",
       "      <th>Year</th>\n",
       "      <td>801.0</td>\n",
       "      <td>2.016549e+03</td>\n",
       "      <td>4.978731e-01</td>\n",
       "      <td>2016.0</td>\n",
       "      <td>2016.0</td>\n",
       "      <td>2017.0</td>\n",
       "      <td>2017.0</td>\n",
       "      <td>2017.0</td>\n",
       "    </tr>\n",
       "    <tr>\n",
       "      <th>Fresh</th>\n",
       "      <td>801.0</td>\n",
       "      <td>1.103293e+04</td>\n",
       "      <td>1.203883e+04</td>\n",
       "      <td>0.0</td>\n",
       "      <td>2787.0</td>\n",
       "      <td>7440.0</td>\n",
       "      <td>15218.0</td>\n",
       "      <td>112151.0</td>\n",
       "    </tr>\n",
       "    <tr>\n",
       "      <th>Milk</th>\n",
       "      <td>801.0</td>\n",
       "      <td>5.162491e+03</td>\n",
       "      <td>6.797627e+03</td>\n",
       "      <td>0.0</td>\n",
       "      <td>1343.0</td>\n",
       "      <td>3186.0</td>\n",
       "      <td>6380.0</td>\n",
       "      <td>73498.0</td>\n",
       "    </tr>\n",
       "    <tr>\n",
       "      <th>Grocery</th>\n",
       "      <td>801.0</td>\n",
       "      <td>7.153794e+03</td>\n",
       "      <td>8.807667e+03</td>\n",
       "      <td>0.0</td>\n",
       "      <td>1981.0</td>\n",
       "      <td>4252.0</td>\n",
       "      <td>9464.0</td>\n",
       "      <td>92780.0</td>\n",
       "    </tr>\n",
       "    <tr>\n",
       "      <th>Frozen</th>\n",
       "      <td>801.0</td>\n",
       "      <td>2.641923e+03</td>\n",
       "      <td>4.263497e+03</td>\n",
       "      <td>0.0</td>\n",
       "      <td>576.0</td>\n",
       "      <td>1286.0</td>\n",
       "      <td>3012.0</td>\n",
       "      <td>60869.0</td>\n",
       "    </tr>\n",
       "    <tr>\n",
       "      <th>Detergents_Paper</th>\n",
       "      <td>801.0</td>\n",
       "      <td>2.696637e+03</td>\n",
       "      <td>4.460152e+03</td>\n",
       "      <td>0.0</td>\n",
       "      <td>236.0</td>\n",
       "      <td>751.0</td>\n",
       "      <td>3593.0</td>\n",
       "      <td>40827.0</td>\n",
       "    </tr>\n",
       "    <tr>\n",
       "      <th>Delicassen</th>\n",
       "      <td>801.0</td>\n",
       "      <td>1.337215e+03</td>\n",
       "      <td>2.621510e+03</td>\n",
       "      <td>0.0</td>\n",
       "      <td>361.0</td>\n",
       "      <td>833.0</td>\n",
       "      <td>1562.0</td>\n",
       "      <td>47943.0</td>\n",
       "    </tr>\n",
       "  </tbody>\n",
       "</table>\n",
       "</div>"
      ],
      "text/plain": [
       "                  count          mean           std        min        25%  \\\n",
       "Channel           801.0  1.344569e+00  4.755245e-01        1.0        1.0   \n",
       "Customer          801.0  5.327841e+06  2.544952e+06  1133724.0  3278814.0   \n",
       "Year              801.0  2.016549e+03  4.978731e-01     2016.0     2016.0   \n",
       "Fresh             801.0  1.103293e+04  1.203883e+04        0.0     2787.0   \n",
       "Milk              801.0  5.162491e+03  6.797627e+03        0.0     1343.0   \n",
       "Grocery           801.0  7.153794e+03  8.807667e+03        0.0     1981.0   \n",
       "Frozen            801.0  2.641923e+03  4.263497e+03        0.0      576.0   \n",
       "Detergents_Paper  801.0  2.696637e+03  4.460152e+03        0.0      236.0   \n",
       "Delicassen        801.0  1.337215e+03  2.621510e+03        0.0      361.0   \n",
       "\n",
       "                        50%        75%        max  \n",
       "Channel                 1.0        2.0        2.0  \n",
       "Customer          5259389.0  7309127.0  9990301.0  \n",
       "Year                 2017.0     2017.0     2017.0  \n",
       "Fresh                7440.0    15218.0   112151.0  \n",
       "Milk                 3186.0     6380.0    73498.0  \n",
       "Grocery              4252.0     9464.0    92780.0  \n",
       "Frozen               1286.0     3012.0    60869.0  \n",
       "Detergents_Paper      751.0     3593.0    40827.0  \n",
       "Delicassen            833.0     1562.0    47943.0  "
      ]
     },
     "execution_count": 377,
     "metadata": {},
     "output_type": "execute_result"
    }
   ],
   "source": [
    "wholesale_df_pandas.describe().transpose()"
   ]
  },
  {
   "cell_type": "code",
   "execution_count": 189,
   "metadata": {},
   "outputs": [
    {
     "data": {
      "image/png": "[encoded data removed]",
      "text/plain": [
       "<Figure size 432x288 with 1 Axes>"
      ]
     },
     "metadata": {
      "needs_background": "light"
     },
     "output_type": "display_data"
    }
   ],
   "source": [
    "sns.countplot(wholesale_df_pandas[\"Channel\"]);"
   ]
  },
  {
   "cell_type": "code",
   "execution_count": 379,
   "metadata": {},
   "outputs": [
    {
     "data": {
      "image/png": "[encoded data removed]",
      "text/plain": [
       "<Figure size 432x288 with 1 Axes>"
      ]
     },
     "metadata": {
      "needs_background": "light"
     },
     "output_type": "display_data"
    }
   ],
   "source": [
    "sns.countplot(wholesale_df_pandas[\"Year\"]);"
   ]
  },
  {
   "cell_type": "code",
   "execution_count": 381,
   "metadata": {},
   "outputs": [
    {
     "data": {
      "image/png": "[encoded data removed]",
      "text/plain": [
       "<Figure size 432x288 with 1 Axes>"
      ]
     },
     "metadata": {
      "needs_background": "light"
     },
     "output_type": "display_data"
    }
   ],
   "source": [
    "sns.countplot(wholesale_df_pandas[\"Channel\"], hue = wholesale_df_pandas[\"Year\"]);"
   ]
  },
  {
   "cell_type": "code",
   "execution_count": 382,
   "metadata": {},
   "outputs": [],
   "source": [
    "ch_year = wholesale_df_pandas.groupby([\"Channel\", \"Year\"])[[\"Fresh\", \"Milk\", \"Grocery\", \"Frozen\", \"Detergents_Paper\", \"Delicassen\"]].sum()\n",
    "ch_year = ch_year.reset_index()"
   ]
  },
  {
   "cell_type": "code",
   "execution_count": 383,
   "metadata": {},
   "outputs": [
    {
     "data": {
      "text/html": [
       "<div>\n",
       "<style scoped>\n",
       "    .dataframe tbody tr th:only-of-type {\n",
       "        vertical-align: middle;\n",
       "    }\n",
       "\n",
       "    .dataframe tbody tr th {\n",
       "        vertical-align: top;\n",
       "    }\n",
       "\n",
       "    .dataframe thead th {\n",
       "        text-align: right;\n",
       "    }\n",
       "</style>\n",
       "<table border=\"1\" class=\"dataframe\">\n",
       "  <thead>\n",
       "    <tr style=\"text-align: right;\">\n",
       "      <th></th>\n",
       "      <th>Channel</th>\n",
       "      <th>Year</th>\n",
       "      <th>Fresh</th>\n",
       "      <th>Milk</th>\n",
       "      <th>Grocery</th>\n",
       "      <th>Frozen</th>\n",
       "      <th>Detergents_Paper</th>\n",
       "      <th>Delicassen</th>\n",
       "    </tr>\n",
       "  </thead>\n",
       "  <tbody>\n",
       "    <tr>\n",
       "      <th>0</th>\n",
       "      <td>1</td>\n",
       "      <td>2016</td>\n",
       "      <td>2785164</td>\n",
       "      <td>577088</td>\n",
       "      <td>699663</td>\n",
       "      <td>622573</td>\n",
       "      <td>157995</td>\n",
       "      <td>253374</td>\n",
       "    </tr>\n",
       "    <tr>\n",
       "      <th>1</th>\n",
       "      <td>1</td>\n",
       "      <td>2017</td>\n",
       "      <td>4009748</td>\n",
       "      <td>1022472</td>\n",
       "      <td>1178593</td>\n",
       "      <td>1093558</td>\n",
       "      <td>234805</td>\n",
       "      <td>419722</td>\n",
       "    </tr>\n",
       "    <tr>\n",
       "      <th>2</th>\n",
       "      <td>2</td>\n",
       "      <td>2016</td>\n",
       "      <td>819162</td>\n",
       "      <td>1021556</td>\n",
       "      <td>1534088</td>\n",
       "      <td>165378</td>\n",
       "      <td>734936</td>\n",
       "      <td>167705</td>\n",
       "    </tr>\n",
       "    <tr>\n",
       "      <th>3</th>\n",
       "      <td>2</td>\n",
       "      <td>2017</td>\n",
       "      <td>1223304</td>\n",
       "      <td>1514039</td>\n",
       "      <td>2317845</td>\n",
       "      <td>234671</td>\n",
       "      <td>1032270</td>\n",
       "      <td>230308</td>\n",
       "    </tr>\n",
       "  </tbody>\n",
       "</table>\n",
       "</div>"
      ],
      "text/plain": [
       "   Channel  Year    Fresh     Milk  Grocery   Frozen  Detergents_Paper  \\\n",
       "0        1  2016  2785164   577088   699663   622573            157995   \n",
       "1        1  2017  4009748  1022472  1178593  1093558            234805   \n",
       "2        2  2016   819162  1021556  1534088   165378            734936   \n",
       "3        2  2017  1223304  1514039  2317845   234671           1032270   \n",
       "\n",
       "   Delicassen  \n",
       "0      253374  \n",
       "1      419722  \n",
       "2      167705  \n",
       "3      230308  "
      ]
     },
     "execution_count": 383,
     "metadata": {},
     "output_type": "execute_result"
    }
   ],
   "source": [
    "ch_year"
   ]
  },
  {
   "cell_type": "code",
   "execution_count": 384,
   "metadata": {},
   "outputs": [
    {
     "data": {
      "text/plain": [
       "Index(['Channel', 'Year', 'Fresh', 'Milk', 'Grocery', 'Frozen',\n",
       "       'Detergents_Paper', 'Delicassen'],\n",
       "      dtype='object')"
      ]
     },
     "execution_count": 384,
     "metadata": {},
     "output_type": "execute_result"
    }
   ],
   "source": [
    "ch_year.columns"
   ]
  },
  {
   "cell_type": "code",
   "execution_count": 385,
   "metadata": {},
   "outputs": [],
   "source": [
    "ch_year_melt = ch_year.melt(id_vars=['Channel', 'Year'], value_vars=['Fresh', 'Milk', 'Grocery', 'Frozen', 'Detergents_Paper', 'Delicassen'])"
   ]
  },
  {
   "cell_type": "code",
   "execution_count": 386,
   "metadata": {},
   "outputs": [
    {
     "data": {
      "text/html": [
       "<div>\n",
       "<style scoped>\n",
       "    .dataframe tbody tr th:only-of-type {\n",
       "        vertical-align: middle;\n",
       "    }\n",
       "\n",
       "    .dataframe tbody tr th {\n",
       "        vertical-align: top;\n",
       "    }\n",
       "\n",
       "    .dataframe thead th {\n",
       "        text-align: right;\n",
       "    }\n",
       "</style>\n",
       "<table border=\"1\" class=\"dataframe\">\n",
       "  <thead>\n",
       "    <tr style=\"text-align: right;\">\n",
       "      <th></th>\n",
       "      <th>Channel</th>\n",
       "      <th>Year</th>\n",
       "      <th>variable</th>\n",
       "      <th>value</th>\n",
       "    </tr>\n",
       "  </thead>\n",
       "  <tbody>\n",
       "    <tr>\n",
       "      <th>0</th>\n",
       "      <td>1</td>\n",
       "      <td>2016</td>\n",
       "      <td>Fresh</td>\n",
       "      <td>2785164</td>\n",
       "    </tr>\n",
       "    <tr>\n",
       "      <th>1</th>\n",
       "      <td>1</td>\n",
       "      <td>2017</td>\n",
       "      <td>Fresh</td>\n",
       "      <td>4009748</td>\n",
       "    </tr>\n",
       "    <tr>\n",
       "      <th>2</th>\n",
       "      <td>2</td>\n",
       "      <td>2016</td>\n",
       "      <td>Fresh</td>\n",
       "      <td>819162</td>\n",
       "    </tr>\n",
       "    <tr>\n",
       "      <th>3</th>\n",
       "      <td>2</td>\n",
       "      <td>2017</td>\n",
       "      <td>Fresh</td>\n",
       "      <td>1223304</td>\n",
       "    </tr>\n",
       "    <tr>\n",
       "      <th>4</th>\n",
       "      <td>1</td>\n",
       "      <td>2016</td>\n",
       "      <td>Milk</td>\n",
       "      <td>577088</td>\n",
       "    </tr>\n",
       "  </tbody>\n",
       "</table>\n",
       "</div>"
      ],
      "text/plain": [
       "   Channel  Year variable    value\n",
       "0        1  2016    Fresh  2785164\n",
       "1        1  2017    Fresh  4009748\n",
       "2        2  2016    Fresh   819162\n",
       "3        2  2017    Fresh  1223304\n",
       "4        1  2016     Milk   577088"
      ]
     },
     "execution_count": 386,
     "metadata": {},
     "output_type": "execute_result"
    },
    {
     "data": {
      "text/plain": [
       "Channel      int64\n",
       "Year         int64\n",
       "variable    object\n",
       "value        int64\n",
       "dtype: object"
      ]
     },
     "execution_count": 386,
     "metadata": {},
     "output_type": "execute_result"
    }
   ],
   "source": [
    "ch_year_melt.head()\n",
    "ch_year_melt.dtypes"
   ]
  },
  {
   "cell_type": "code",
   "execution_count": 444,
   "metadata": {},
   "outputs": [],
   "source": [
    "# fig = plt.subplots(1, 1, figsize = (10, 5))\n",
    "# sns.barplot(x = \"Channel\", y = \"value\", data = ch_year_melt, hue = \"variable\", ci=None);"
   ]
  },
  {
   "cell_type": "code",
   "execution_count": 445,
   "metadata": {},
   "outputs": [],
   "source": [
    "# fig = plt.subplots(1, 1, figsize = (10, 5))\n",
    "# sns.barplot(x = \"Year\", y = \"value\", data = ch_year_melt, hue = \"variable\", ci=None);"
   ]
  },
  {
   "cell_type": "code",
   "execution_count": 446,
   "metadata": {},
   "outputs": [
    {
     "data": {
      "text/html": [
       "<div>\n",
       "<style scoped>\n",
       "    .dataframe tbody tr th:only-of-type {\n",
       "        vertical-align: middle;\n",
       "    }\n",
       "\n",
       "    .dataframe tbody tr th {\n",
       "        vertical-align: top;\n",
       "    }\n",
       "\n",
       "    .dataframe thead th {\n",
       "        text-align: right;\n",
       "    }\n",
       "</style>\n",
       "<table border=\"1\" class=\"dataframe\">\n",
       "  <thead>\n",
       "    <tr style=\"text-align: right;\">\n",
       "      <th></th>\n",
       "      <th>Channel</th>\n",
       "      <th>Year</th>\n",
       "      <th>Customer</th>\n",
       "      <th>Fresh</th>\n",
       "      <th>Milk</th>\n",
       "      <th>Grocery</th>\n",
       "      <th>Frozen</th>\n",
       "      <th>Detergents_Paper</th>\n",
       "      <th>Delicassen</th>\n",
       "    </tr>\n",
       "  </thead>\n",
       "  <tbody>\n",
       "    <tr>\n",
       "      <th>0</th>\n",
       "      <td>1</td>\n",
       "      <td>2016</td>\n",
       "      <td>1134744</td>\n",
       "      <td>12891</td>\n",
       "      <td>273</td>\n",
       "      <td>328</td>\n",
       "      <td>1350</td>\n",
       "      <td>28</td>\n",
       "      <td>600</td>\n",
       "    </tr>\n",
       "    <tr>\n",
       "      <th>1</th>\n",
       "      <td>1</td>\n",
       "      <td>2016</td>\n",
       "      <td>1136442</td>\n",
       "      <td>10323</td>\n",
       "      <td>563</td>\n",
       "      <td>0</td>\n",
       "      <td>2814</td>\n",
       "      <td>956</td>\n",
       "      <td>101</td>\n",
       "    </tr>\n",
       "    <tr>\n",
       "      <th>2</th>\n",
       "      <td>1</td>\n",
       "      <td>2016</td>\n",
       "      <td>1143896</td>\n",
       "      <td>15327</td>\n",
       "      <td>2073</td>\n",
       "      <td>362</td>\n",
       "      <td>2641</td>\n",
       "      <td>22</td>\n",
       "      <td>863</td>\n",
       "    </tr>\n",
       "    <tr>\n",
       "      <th>3</th>\n",
       "      <td>1</td>\n",
       "      <td>2016</td>\n",
       "      <td>1176235</td>\n",
       "      <td>36968</td>\n",
       "      <td>4592</td>\n",
       "      <td>4052</td>\n",
       "      <td>7221</td>\n",
       "      <td>1088</td>\n",
       "      <td>147</td>\n",
       "    </tr>\n",
       "    <tr>\n",
       "      <th>4</th>\n",
       "      <td>1</td>\n",
       "      <td>2016</td>\n",
       "      <td>1182105</td>\n",
       "      <td>42226</td>\n",
       "      <td>1092</td>\n",
       "      <td>1670</td>\n",
       "      <td>720</td>\n",
       "      <td>720</td>\n",
       "      <td>502</td>\n",
       "    </tr>\n",
       "  </tbody>\n",
       "</table>\n",
       "</div>"
      ],
      "text/plain": [
       "   Channel  Year  Customer  Fresh  Milk  Grocery  Frozen  Detergents_Paper  \\\n",
       "0        1  2016   1134744  12891   273      328    1350                28   \n",
       "1        1  2016   1136442  10323   563        0    2814               956   \n",
       "2        1  2016   1143896  15327  2073      362    2641                22   \n",
       "3        1  2016   1176235  36968  4592     4052    7221              1088   \n",
       "4        1  2016   1182105  42226  1092     1670     720               720   \n",
       "\n",
       "   Delicassen  \n",
       "0         600  \n",
       "1         101  \n",
       "2         863  \n",
       "3         147  \n",
       "4         502  "
      ]
     },
     "execution_count": 446,
     "metadata": {},
     "output_type": "execute_result"
    },
    {
     "data": {
      "text/plain": [
       "(801, 9)"
      ]
     },
     "execution_count": 446,
     "metadata": {},
     "output_type": "execute_result"
    }
   ],
   "source": [
    "ch_customer = wholesale_df_pandas.groupby([\"Channel\", \"Year\", \"Customer\"])[[\"Fresh\", \"Milk\", \"Grocery\", \"Frozen\", \"Detergents_Paper\", \"Delicassen\"]].sum()\n",
    "ch_customer = ch_customer.reset_index()\n",
    "ch_customer.head()\n",
    "ch_customer.shape"
   ]
  },
  {
   "cell_type": "code",
   "execution_count": 447,
   "metadata": {},
   "outputs": [
    {
     "data": {
      "text/html": [
       "<div>\n",
       "<style scoped>\n",
       "    .dataframe tbody tr th:only-of-type {\n",
       "        vertical-align: middle;\n",
       "    }\n",
       "\n",
       "    .dataframe tbody tr th {\n",
       "        vertical-align: top;\n",
       "    }\n",
       "\n",
       "    .dataframe thead th {\n",
       "        text-align: right;\n",
       "    }\n",
       "</style>\n",
       "<table border=\"1\" class=\"dataframe\">\n",
       "  <thead>\n",
       "    <tr style=\"text-align: right;\">\n",
       "      <th></th>\n",
       "      <th>Channel</th>\n",
       "      <th>Year</th>\n",
       "      <th>Customer</th>\n",
       "      <th>Fresh</th>\n",
       "      <th>Milk</th>\n",
       "      <th>Grocery</th>\n",
       "      <th>Frozen</th>\n",
       "      <th>Detergents_Paper</th>\n",
       "      <th>Delicassen</th>\n",
       "      <th>purchase_all</th>\n",
       "    </tr>\n",
       "  </thead>\n",
       "  <tbody>\n",
       "    <tr>\n",
       "      <th>0</th>\n",
       "      <td>1</td>\n",
       "      <td>2016</td>\n",
       "      <td>1134744</td>\n",
       "      <td>12891</td>\n",
       "      <td>273</td>\n",
       "      <td>328</td>\n",
       "      <td>1350</td>\n",
       "      <td>28</td>\n",
       "      <td>600</td>\n",
       "      <td>15470</td>\n",
       "    </tr>\n",
       "    <tr>\n",
       "      <th>1</th>\n",
       "      <td>1</td>\n",
       "      <td>2016</td>\n",
       "      <td>1136442</td>\n",
       "      <td>10323</td>\n",
       "      <td>563</td>\n",
       "      <td>0</td>\n",
       "      <td>2814</td>\n",
       "      <td>956</td>\n",
       "      <td>101</td>\n",
       "      <td>14757</td>\n",
       "    </tr>\n",
       "    <tr>\n",
       "      <th>2</th>\n",
       "      <td>1</td>\n",
       "      <td>2016</td>\n",
       "      <td>1143896</td>\n",
       "      <td>15327</td>\n",
       "      <td>2073</td>\n",
       "      <td>362</td>\n",
       "      <td>2641</td>\n",
       "      <td>22</td>\n",
       "      <td>863</td>\n",
       "      <td>21288</td>\n",
       "    </tr>\n",
       "    <tr>\n",
       "      <th>3</th>\n",
       "      <td>1</td>\n",
       "      <td>2016</td>\n",
       "      <td>1176235</td>\n",
       "      <td>36968</td>\n",
       "      <td>4592</td>\n",
       "      <td>4052</td>\n",
       "      <td>7221</td>\n",
       "      <td>1088</td>\n",
       "      <td>147</td>\n",
       "      <td>54068</td>\n",
       "    </tr>\n",
       "    <tr>\n",
       "      <th>4</th>\n",
       "      <td>1</td>\n",
       "      <td>2016</td>\n",
       "      <td>1182105</td>\n",
       "      <td>42226</td>\n",
       "      <td>1092</td>\n",
       "      <td>1670</td>\n",
       "      <td>720</td>\n",
       "      <td>720</td>\n",
       "      <td>502</td>\n",
       "      <td>46930</td>\n",
       "    </tr>\n",
       "  </tbody>\n",
       "</table>\n",
       "</div>"
      ],
      "text/plain": [
       "   Channel  Year  Customer  Fresh  Milk  Grocery  Frozen  Detergents_Paper  \\\n",
       "0        1  2016   1134744  12891   273      328    1350                28   \n",
       "1        1  2016   1136442  10323   563        0    2814               956   \n",
       "2        1  2016   1143896  15327  2073      362    2641                22   \n",
       "3        1  2016   1176235  36968  4592     4052    7221              1088   \n",
       "4        1  2016   1182105  42226  1092     1670     720               720   \n",
       "\n",
       "   Delicassen  purchase_all  \n",
       "0         600         15470  \n",
       "1         101         14757  \n",
       "2         863         21288  \n",
       "3         147         54068  \n",
       "4         502         46930  "
      ]
     },
     "execution_count": 447,
     "metadata": {},
     "output_type": "execute_result"
    },
    {
     "data": {
      "text/plain": [
       "count       801.000000\n",
       "mean      30024.990012\n",
       "std       24416.679410\n",
       "min         827.000000\n",
       "25%       15454.000000\n",
       "50%       23881.000000\n",
       "75%       36262.000000\n",
       "max      199891.000000\n",
       "Name: purchase_all, dtype: float64"
      ]
     },
     "execution_count": 447,
     "metadata": {},
     "output_type": "execute_result"
    }
   ],
   "source": [
    "ch_customer[\"purchase_all\"] = ch_customer[[\"Fresh\", \"Milk\", \"Grocery\", \"Frozen\", \"Detergents_Paper\", \"Delicassen\"]].sum(axis = 1)\n",
    "ch_customer.head()\n",
    "ch_customer[\"purchase_all\"].describe()"
   ]
  },
  {
   "cell_type": "code",
   "execution_count": 448,
   "metadata": {},
   "outputs": [
    {
     "data": {
      "image/png": "[encoded data removed]",
      "text/plain": [
       "<Figure size 720x360 with 1 Axes>"
      ]
     },
     "metadata": {
      "needs_background": "light"
     },
     "output_type": "display_data"
    }
   ],
   "source": [
    "fig = plt.subplots(1,1, figsize = (10, 5))\n",
    "plt.hist(ch_customer[\"purchase_all\"], bins = 10);"
   ]
  },
  {
   "cell_type": "code",
   "execution_count": 449,
   "metadata": {},
   "outputs": [
    {
     "data": {
      "text/html": [
       "<div>\n",
       "<style scoped>\n",
       "    .dataframe tbody tr th:only-of-type {\n",
       "        vertical-align: middle;\n",
       "    }\n",
       "\n",
       "    .dataframe tbody tr th {\n",
       "        vertical-align: top;\n",
       "    }\n",
       "\n",
       "    .dataframe thead th {\n",
       "        text-align: right;\n",
       "    }\n",
       "</style>\n",
       "<table border=\"1\" class=\"dataframe\">\n",
       "  <thead>\n",
       "    <tr style=\"text-align: right;\">\n",
       "      <th></th>\n",
       "      <th>purchase_all</th>\n",
       "      <th>count</th>\n",
       "      <th>mean</th>\n",
       "    </tr>\n",
       "  </thead>\n",
       "  <tbody>\n",
       "    <tr>\n",
       "      <th>0</th>\n",
       "      <td>(0, 37000]</td>\n",
       "      <td>610</td>\n",
       "      <td>20196.219672</td>\n",
       "    </tr>\n",
       "    <tr>\n",
       "      <th>1</th>\n",
       "      <td>(37000, 65000]</td>\n",
       "      <td>141</td>\n",
       "      <td>47799.602837</td>\n",
       "    </tr>\n",
       "    <tr>\n",
       "      <th>2</th>\n",
       "      <td>(65000, 2000000]</td>\n",
       "      <td>50</td>\n",
       "      <td>99811.580000</td>\n",
       "    </tr>\n",
       "  </tbody>\n",
       "</table>\n",
       "</div>"
      ],
      "text/plain": [
       "       purchase_all  count          mean\n",
       "0        (0, 37000]    610  20196.219672\n",
       "1    (37000, 65000]    141  47799.602837\n",
       "2  (65000, 2000000]     50  99811.580000"
      ]
     },
     "execution_count": 449,
     "metadata": {},
     "output_type": "execute_result"
    }
   ],
   "source": [
    "bins = pd.cut(ch_customer['purchase_all'], [0, 37000, 65000, 2000000])\n",
    "ch_customer_means = ch_customer.groupby(bins)['purchase_all'].agg(['count', 'mean']).reset_index()\n",
    "ch_customer_means"
   ]
  },
  {
   "cell_type": "code",
   "execution_count": 450,
   "metadata": {},
   "outputs": [
    {
     "data": {
      "image/png": "[encoded data removed]",
      "text/plain": [
       "<Figure size 432x288 with 1 Axes>"
      ]
     },
     "metadata": {
      "needs_background": "light"
     },
     "output_type": "display_data"
    }
   ],
   "source": [
    "sns.barplot(x = \"purchase_all\", y = \"count\", data = ch_customer_means);"
   ]
  },
  {
   "cell_type": "markdown",
   "metadata": {},
   "source": [
    "The customers can be divided into three different groups based on their purchase. We can focus on the first and second groups and come up with a loyality program to incentivize them to buy more"
   ]
  },
  {
   "cell_type": "markdown",
   "metadata": {},
   "source": [
    "### Group-I"
   ]
  },
  {
   "cell_type": "code",
   "execution_count": 459,
   "metadata": {},
   "outputs": [
    {
     "data": {
      "image/png": "[encoded data removed]",
      "text/plain": [
       "<Figure size 720x360 with 1 Axes>"
      ]
     },
     "metadata": {
      "needs_background": "light"
     },
     "output_type": "display_data"
    }
   ],
   "source": [
    "ch_customer_group_1 = ch_customer[ch_customer['purchase_all'] < 37000]\n",
    "ch_customer_agroup_1_melt = ch_customer_group_1.melt(id_vars=['Channel', 'Customer'], value_vars=['Fresh', 'Milk', 'Grocery', 'Frozen', 'Detergents_Paper', 'Delicassen'])\n",
    "fig = plt.subplots(1, 1, figsize = (10, 5))\n",
    "sns.barplot(x = \"Channel\", y = \"value\", data = ch_customer_group_1_melt, hue = \"variable\", ci=None);"
   ]
  },
  {
   "cell_type": "markdown",
   "metadata": {},
   "source": [
    "### Group-II"
   ]
  },
  {
   "cell_type": "code",
   "execution_count": 452,
   "metadata": {},
   "outputs": [
    {
     "data": {
      "image/png": "[encoded data removed]",
      "text/plain": [
       "<Figure size 720x360 with 1 Axes>"
      ]
     },
     "metadata": {
      "needs_background": "light"
     },
     "output_type": "display_data"
    }
   ],
   "source": [
    "ch_customer_group_2 = ch_customer[(ch_customer['purchase_all'] > 37000) & (ch_customer['purchase_all'] < 65000)]\n",
    "ch_customer_group_2.head()\n",
    "ch_customer_group_2_melt = ch_customer_group_2.melt(id_vars=['Channel', 'Customer'], value_vars=['Fresh', 'Milk', 'Grocery', 'Frozen', 'Detergents_Paper', 'Delicassen'])\n",
    "fig = plt.subplots(1, 1, figsize = (10, 5))\n",
    "sns.barplot(x = \"Channel\", y = \"value\", data = ch_customer_group_2_melt, hue = \"variable\", ci=None);"
   ]
  },
  {
   "cell_type": "markdown",
   "metadata": {},
   "source": [
    "### Group-III"
   ]
  },
  {
   "cell_type": "code",
   "execution_count": 453,
   "metadata": {},
   "outputs": [
    {
     "data": {
      "image/png": "[encoded data removed]",
      "text/plain": [
       "<Figure size 720x360 with 1 Axes>"
      ]
     },
     "metadata": {
      "needs_background": "light"
     },
     "output_type": "display_data"
    }
   ],
   "source": [
    "ch_customer_group_3 = ch_customer[ch_customer['purchase_all'] > 65000]\n",
    "ch_customer_group_3.head()\n",
    "ch_customer_group_3_melt = ch_customer_group_3.melt(id_vars=['Channel', 'Customer'], value_vars=['Fresh', 'Milk', 'Grocery', 'Frozen', 'Detergents_Paper', 'Delicassen'])\n",
    "fig = plt.subplots(1, 1, figsize = (10, 5))\n",
    "sns.barplot(x = \"Channel\", y = \"value\", data = ch_customer_group_3_melt, hue = \"variable\", ci=None);"
   ]
  },
  {
   "cell_type": "markdown",
   "metadata": {},
   "source": [
    "## Spark code ##"
   ]
  },
  {
   "cell_type": "code",
   "execution_count": 101,
   "metadata": {},
   "outputs": [
    {
     "data": {
      "text/html": [
       "<div>\n",
       "<style scoped>\n",
       "    .dataframe tbody tr th:only-of-type {\n",
       "        vertical-align: middle;\n",
       "    }\n",
       "\n",
       "    .dataframe tbody tr th {\n",
       "        vertical-align: top;\n",
       "    }\n",
       "\n",
       "    .dataframe thead th {\n",
       "        text-align: right;\n",
       "    }\n",
       "</style>\n",
       "<table border=\"1\" class=\"dataframe\">\n",
       "  <thead>\n",
       "    <tr style=\"text-align: right;\">\n",
       "      <th></th>\n",
       "      <th>Channel</th>\n",
       "      <th>Customer</th>\n",
       "      <th>Year</th>\n",
       "      <th>Fresh</th>\n",
       "      <th>Milk</th>\n",
       "      <th>Grocery</th>\n",
       "      <th>Frozen</th>\n",
       "      <th>Detergents_Paper</th>\n",
       "      <th>Delicassen</th>\n",
       "    </tr>\n",
       "  </thead>\n",
       "  <tbody>\n",
       "    <tr>\n",
       "      <th>0</th>\n",
       "      <td>2</td>\n",
       "      <td>6048141</td>\n",
       "      <td>2017</td>\n",
       "      <td>12669</td>\n",
       "      <td>9656</td>\n",
       "      <td>7561</td>\n",
       "      <td>214</td>\n",
       "      <td>2674</td>\n",
       "      <td>1338</td>\n",
       "    </tr>\n",
       "    <tr>\n",
       "      <th>1</th>\n",
       "      <td>2</td>\n",
       "      <td>9336325</td>\n",
       "      <td>2017</td>\n",
       "      <td>7057</td>\n",
       "      <td>9810</td>\n",
       "      <td>9568</td>\n",
       "      <td>1762</td>\n",
       "      <td>3293</td>\n",
       "      <td>1776</td>\n",
       "    </tr>\n",
       "    <tr>\n",
       "      <th>2</th>\n",
       "      <td>2</td>\n",
       "      <td>6272942</td>\n",
       "      <td>2017</td>\n",
       "      <td>6353</td>\n",
       "      <td>8808</td>\n",
       "      <td>7684</td>\n",
       "      <td>2405</td>\n",
       "      <td>3516</td>\n",
       "      <td>7844</td>\n",
       "    </tr>\n",
       "    <tr>\n",
       "      <th>3</th>\n",
       "      <td>1</td>\n",
       "      <td>7856217</td>\n",
       "      <td>2017</td>\n",
       "      <td>13265</td>\n",
       "      <td>1196</td>\n",
       "      <td>4221</td>\n",
       "      <td>6404</td>\n",
       "      <td>507</td>\n",
       "      <td>1788</td>\n",
       "    </tr>\n",
       "    <tr>\n",
       "      <th>4</th>\n",
       "      <td>2</td>\n",
       "      <td>6179511</td>\n",
       "      <td>2017</td>\n",
       "      <td>22615</td>\n",
       "      <td>5410</td>\n",
       "      <td>7198</td>\n",
       "      <td>3915</td>\n",
       "      <td>1777</td>\n",
       "      <td>5185</td>\n",
       "    </tr>\n",
       "  </tbody>\n",
       "</table>\n",
       "</div>"
      ],
      "text/plain": [
       "   Channel  Customer  Year  Fresh  Milk Grocery Frozen Detergents_Paper  \\\n",
       "0        2   6048141  2017  12669  9656    7561    214             2674   \n",
       "1        2   9336325  2017   7057  9810    9568   1762             3293   \n",
       "2        2   6272942  2017   6353  8808    7684   2405             3516   \n",
       "3        1   7856217  2017  13265  1196    4221   6404              507   \n",
       "4        2   6179511  2017  22615  5410    7198   3915             1777   \n",
       "\n",
       "  Delicassen  \n",
       "0       1338  \n",
       "1       1776  \n",
       "2       7844  \n",
       "3       1788  \n",
       "4       5185  "
      ]
     },
     "execution_count": 101,
     "metadata": {},
     "output_type": "execute_result"
    },
    {
     "name": "stdout",
     "output_type": "stream",
     "text": [
      "root\n",
      " |-- Channel: integer (nullable = true)\n",
      " |-- Customer: integer (nullable = true)\n",
      " |-- Year: string (nullable = true)\n",
      " |-- Fresh: string (nullable = true)\n",
      " |-- Milk: string (nullable = true)\n",
      " |-- Grocery: string (nullable = true)\n",
      " |-- Frozen: string (nullable = true)\n",
      " |-- Detergents_Paper: string (nullable = true)\n",
      " |-- Delicassen: string (nullable = true)\n",
      "\n"
     ]
    }
   ],
   "source": [
    "# wholesale_df = spark.read.csv(\"wholesale_data.csv\", header=True, inferSchema=True)\n",
    "# wholesale_df.limit(5).toPandas()\n",
    "# wholesale_df.printSchema()"
   ]
  },
  {
   "cell_type": "code",
   "execution_count": 117,
   "metadata": {},
   "outputs": [],
   "source": [
    "# schema = T.StructType([\n",
    "#     T.StructField(\"Channel\", T.IntegerType(), True),\n",
    "#     T.StructField(\"Customer\", T.IntegerType(), True),\n",
    "#     T.StructField(\"Year\", T.IntegerType(), True),\n",
    "#     T.StructField(\"Fresh\", T.IntegerType(), True),\n",
    "#     T.StructField(\"Milk\", T.IntegerType(), True),\n",
    "#     T.StructField(\"Grocery\", T.IntegerType(), True),\n",
    "#     T.StructField(\"Frozen\", T.IntegerType(), True),\n",
    "#     T.StructField(\"Detergents_Paper\", T.IntegerType(), True),\n",
    "#     T.StructField(\"Delicassen\", T.IntegerType(), True)\n",
    "# ])"
   ]
  },
  {
   "cell_type": "code",
   "execution_count": 118,
   "metadata": {},
   "outputs": [
    {
     "name": "stdout",
     "output_type": "stream",
     "text": [
      "+-------+--------+----+-----+----+-------+------+----------------+----------+\n",
      "|Channel|Customer|Year|Fresh|Milk|Grocery|Frozen|Detergents_Paper|Delicassen|\n",
      "+-------+--------+----+-----+----+-------+------+----------------+----------+\n",
      "|      2| 6048141|2017|12669|9656|   7561|   214|            2674|      1338|\n",
      "|      2| 9336325|2017| 7057|9810|   9568|  1762|            3293|      1776|\n",
      "|      2| 6272942|2017| 6353|8808|   7684|  2405|            3516|      7844|\n",
      "|      1| 7856217|2017|13265|1196|   4221|  6404|             507|      1788|\n",
      "|      2| 6179511|2017|22615|5410|   7198|  3915|            1777|      5185|\n",
      "+-------+--------+----+-----+----+-------+------+----------------+----------+\n",
      "only showing top 5 rows\n",
      "\n",
      "root\n",
      " |-- Channel: integer (nullable = true)\n",
      " |-- Customer: integer (nullable = true)\n",
      " |-- Year: integer (nullable = true)\n",
      " |-- Fresh: integer (nullable = true)\n",
      " |-- Milk: integer (nullable = true)\n",
      " |-- Grocery: integer (nullable = true)\n",
      " |-- Frozen: integer (nullable = true)\n",
      " |-- Detergents_Paper: integer (nullable = true)\n",
      " |-- Delicassen: integer (nullable = true)\n",
      "\n"
     ]
    }
   ],
   "source": [
    "# wholesale_df = spark.read.csv(\"wholesale_data.csv\", header=True, schema=schema)\n",
    "# wholesale_df.show(5)\n",
    "# wholesale_df.printSchema()"
   ]
  },
  {
   "cell_type": "code",
   "execution_count": 119,
   "metadata": {},
   "outputs": [
    {
     "data": {
      "text/html": [
       "<div>\n",
       "<style scoped>\n",
       "    .dataframe tbody tr th:only-of-type {\n",
       "        vertical-align: middle;\n",
       "    }\n",
       "\n",
       "    .dataframe tbody tr th {\n",
       "        vertical-align: top;\n",
       "    }\n",
       "\n",
       "    .dataframe thead th {\n",
       "        text-align: right;\n",
       "    }\n",
       "</style>\n",
       "<table border=\"1\" class=\"dataframe\">\n",
       "  <thead>\n",
       "    <tr style=\"text-align: right;\">\n",
       "      <th></th>\n",
       "      <th>count</th>\n",
       "      <th>mean</th>\n",
       "      <th>std</th>\n",
       "      <th>min</th>\n",
       "      <th>25%</th>\n",
       "      <th>50%</th>\n",
       "      <th>75%</th>\n",
       "      <th>max</th>\n",
       "    </tr>\n",
       "  </thead>\n",
       "  <tbody>\n",
       "    <tr>\n",
       "      <th>Channel</th>\n",
       "      <td>429.0</td>\n",
       "      <td>1.324009e+00</td>\n",
       "      <td>4.685499e-01</td>\n",
       "      <td>1.0</td>\n",
       "      <td>1.0</td>\n",
       "      <td>1.0</td>\n",
       "      <td>2.00</td>\n",
       "      <td>2.0</td>\n",
       "    </tr>\n",
       "    <tr>\n",
       "      <th>Customer</th>\n",
       "      <td>429.0</td>\n",
       "      <td>5.364559e+06</td>\n",
       "      <td>2.533776e+06</td>\n",
       "      <td>1134744.0</td>\n",
       "      <td>3347256.0</td>\n",
       "      <td>5286018.0</td>\n",
       "      <td>7309127.00</td>\n",
       "      <td>9990301.0</td>\n",
       "    </tr>\n",
       "    <tr>\n",
       "      <th>Year</th>\n",
       "      <td>429.0</td>\n",
       "      <td>2.017000e+03</td>\n",
       "      <td>0.000000e+00</td>\n",
       "      <td>2017.0</td>\n",
       "      <td>2017.0</td>\n",
       "      <td>2017.0</td>\n",
       "      <td>2017.00</td>\n",
       "      <td>2017.0</td>\n",
       "    </tr>\n",
       "    <tr>\n",
       "      <th>Fresh</th>\n",
       "      <td>428.0</td>\n",
       "      <td>1.196541e+04</td>\n",
       "      <td>1.271307e+04</td>\n",
       "      <td>3.0</td>\n",
       "      <td>3094.5</td>\n",
       "      <td>8305.0</td>\n",
       "      <td>16850.50</td>\n",
       "      <td>112151.0</td>\n",
       "    </tr>\n",
       "    <tr>\n",
       "      <th>Milk</th>\n",
       "      <td>427.0</td>\n",
       "      <td>5.786077e+03</td>\n",
       "      <td>7.315102e+03</td>\n",
       "      <td>55.0</td>\n",
       "      <td>1532.0</td>\n",
       "      <td>3651.0</td>\n",
       "      <td>7196.50</td>\n",
       "      <td>73498.0</td>\n",
       "    </tr>\n",
       "    <tr>\n",
       "      <th>Grocery</th>\n",
       "      <td>428.0</td>\n",
       "      <td>8.008551e+03</td>\n",
       "      <td>9.570793e+03</td>\n",
       "      <td>3.0</td>\n",
       "      <td>2156.5</td>\n",
       "      <td>4903.5</td>\n",
       "      <td>10655.75</td>\n",
       "      <td>92780.0</td>\n",
       "    </tr>\n",
       "    <tr>\n",
       "      <th>Frozen</th>\n",
       "      <td>427.0</td>\n",
       "      <td>3.075977e+03</td>\n",
       "      <td>4.913830e+03</td>\n",
       "      <td>25.0</td>\n",
       "      <td>744.0</td>\n",
       "      <td>1492.0</td>\n",
       "      <td>3512.50</td>\n",
       "      <td>60869.0</td>\n",
       "    </tr>\n",
       "    <tr>\n",
       "      <th>Detergents_Paper</th>\n",
       "      <td>427.0</td>\n",
       "      <td>2.920607e+03</td>\n",
       "      <td>4.817929e+03</td>\n",
       "      <td>3.0</td>\n",
       "      <td>256.5</td>\n",
       "      <td>821.0</td>\n",
       "      <td>3982.00</td>\n",
       "      <td>40827.0</td>\n",
       "    </tr>\n",
       "    <tr>\n",
       "      <th>Delicassen</th>\n",
       "      <td>425.0</td>\n",
       "      <td>1.506784e+03</td>\n",
       "      <td>2.769840e+03</td>\n",
       "      <td>3.0</td>\n",
       "      <td>409.0</td>\n",
       "      <td>975.0</td>\n",
       "      <td>1819.00</td>\n",
       "      <td>47943.0</td>\n",
       "    </tr>\n",
       "  </tbody>\n",
       "</table>\n",
       "</div>"
      ],
      "text/plain": [
       "                  count          mean           std        min        25%  \\\n",
       "Channel           429.0  1.324009e+00  4.685499e-01        1.0        1.0   \n",
       "Customer          429.0  5.364559e+06  2.533776e+06  1134744.0  3347256.0   \n",
       "Year              429.0  2.017000e+03  0.000000e+00     2017.0     2017.0   \n",
       "Fresh             428.0  1.196541e+04  1.271307e+04        3.0     3094.5   \n",
       "Milk              427.0  5.786077e+03  7.315102e+03       55.0     1532.0   \n",
       "Grocery           428.0  8.008551e+03  9.570793e+03        3.0     2156.5   \n",
       "Frozen            427.0  3.075977e+03  4.913830e+03       25.0      744.0   \n",
       "Detergents_Paper  427.0  2.920607e+03  4.817929e+03        3.0      256.5   \n",
       "Delicassen        425.0  1.506784e+03  2.769840e+03        3.0      409.0   \n",
       "\n",
       "                        50%         75%        max  \n",
       "Channel                 1.0        2.00        2.0  \n",
       "Customer          5286018.0  7309127.00  9990301.0  \n",
       "Year                 2017.0     2017.00     2017.0  \n",
       "Fresh                8305.0    16850.50   112151.0  \n",
       "Milk                 3651.0     7196.50    73498.0  \n",
       "Grocery              4903.5    10655.75    92780.0  \n",
       "Frozen               1492.0     3512.50    60869.0  \n",
       "Detergents_Paper      821.0     3982.00    40827.0  \n",
       "Delicassen            975.0     1819.00    47943.0  "
      ]
     },
     "execution_count": 119,
     "metadata": {},
     "output_type": "execute_result"
    }
   ],
   "source": [
    "# wholesale_df.toPandas().describe().transpose()"
   ]
  },
  {
   "cell_type": "code",
   "execution_count": 59,
   "metadata": {},
   "outputs": [
    {
     "data": {
      "image/png": "[encoded data removed]",
      "text/plain": [
       "<Figure size 432x288 with 1 Axes>"
      ]
     },
     "metadata": {
      "needs_background": "light"
     },
     "output_type": "display_data"
    }
   ],
   "source": [
    "sns.countplot(wholesale_df.toPandas()[\"Channel\"]);"
   ]
  },
  {
   "cell_type": "code",
   "execution_count": 34,
   "metadata": {},
   "outputs": [],
   "source": [
    "# wholesale_df.createOrReplaceTempView(\"customer_loyality\")"
   ]
  },
  {
   "cell_type": "code",
   "execution_count": 61,
   "metadata": {},
   "outputs": [
    {
     "name": "stdout",
     "output_type": "stream",
     "text": [
      "+----+--------+\n",
      "|Year|count(1)|\n",
      "+----+--------+\n",
      "|null|     372|\n",
      "|2017|     429|\n",
      "+----+--------+\n",
      "\n"
     ]
    }
   ],
   "source": [
    "# query = \"\"\"\n",
    "#     SELECT Year, COUNT(*)\n",
    "#     FROM customer_loyality\n",
    "#     GROUP BY Year\n",
    "# \"\"\"\n",
    "# spark.sql(query).show(6)"
   ]
  },
  {
   "cell_type": "code",
   "execution_count": 51,
   "metadata": {},
   "outputs": [
    {
     "name": "stdout",
     "output_type": "stream",
     "text": [
      "+---------+\n",
      "|channel_2|\n",
      "+---------+\n",
      "|      139|\n",
      "+---------+\n",
      "\n"
     ]
    }
   ],
   "source": [
    "# query = \"\"\"\n",
    "#     SELECT COUNT(*) AS channel_2\n",
    "#     FROM customer_loyality\n",
    "#     WHERE Channel = 2\n",
    "# \"\"\"\n",
    "# spark.sql(query).show(6)"
   ]
  }
 ],
 "metadata": {
  "kernelspec": {
   "display_name": "Python 3",
   "language": "python",
   "name": "python3"
  },
  "language_info": {
   "codemirror_mode": {
    "name": "ipython",
    "version": 3
   },
   "file_extension": ".py",
   "mimetype": "text/x-python",
   "name": "python",
   "nbconvert_exporter": "python",
   "pygments_lexer": "ipython3",
   "version": "3.6.7"
  }
 },
 "nbformat": 4,
 "nbformat_minor": 2
}
